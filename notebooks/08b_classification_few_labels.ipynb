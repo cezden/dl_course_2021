{
  "nbformat": 4,
  "nbformat_minor": 0,
  "metadata": {
    "kernelspec": {
      "display_name": "Python 3",
      "language": "python",
      "name": "python3"
    },
    "language_info": {
      "codemirror_mode": {
        "name": "ipython",
        "version": 3
      },
      "file_extension": ".py",
      "mimetype": "text/x-python",
      "name": "python",
      "nbconvert_exporter": "python",
      "pygments_lexer": "ipython3",
      "version": "3.5.2"
    },
    "colab": {
      "name": "16_classification_few_labels_
      .ipynb",
      "provenance": []
    }
  },
  "cells": [
    {
      "cell_type": "markdown",
      "metadata": {
        "id": "tGBEB7Pvd-0u"
      },
      "source": [
        "# Exercise on the value of unsupervised constructed features for training a classifier with few labeled examples:\n",
        "\n",
        "To get unsupervised constructed features of an image, we can use a pretrained CNN as feature extractor. \n",
        "\n",
        "We have done this to extract features from 100 Cifar10 images.  As pretrained CNN we use a VGG16 architecture that was trained on ImageNet data and was the second winner of the ImageNet competition in 2014. \n",
        "\n",
        "As a check on the quality of the feature representation of the CIFAR10 data, we will use once the pixel-features and once the VGG-features to train a classifier using this 100 labeled data (on average 10 per class). If the VGG-feature are indeed better than the raw pixel values, we would expect to achieve a better classifier when using the VGG-feature compared to the pixel feature.\n",
        "\n",
        "a) Which accuracy would you expect for a classifier which cannot distinguish between the 10 classes and is only guessing?\n",
        "\n",
        "\n",
        "\n",
        "\n",
        "b) Go through the code which is used to set-up, train, and evaluate a CNN classifier using the raw pixel features. Discuss your thoughts on the achieved accuracy (e.g. with your neighbor).\n",
        "\n",
        "\n",
        "\n",
        "b) Now we use the unsupervised constructed VGG features. We want to check, if these VGG features are good enough to train a classifier with only few labeled data and still get a satisfying performance. For this purpose, please complet the code to set up a fully connected NN and run the provided subsequent code to train it and determine its accuracy on the test set. Compare it to the accuracy which we achieve with a RF. Discuss the results (e.g. with your neighbor).\n",
        "\n",
        "\n",
        "\n"
      ]
    },
    {
      "cell_type": "markdown",
      "metadata": {
        "id": "PDJ_bt5Rd-02"
      },
      "source": [
        "### Imports"
      ]
    },
    {
      "cell_type": "code",
      "metadata": {
        "id": "85458Tp9d-02",
        "colab": {
          "base_uri": "https://localhost:8080/"
        },
        "outputId": "d7e496be-27ae-467a-b5a5-6f22ca845086"
      },
      "source": [
        "%matplotlib inline\n",
        "\n",
        "import matplotlib.pyplot as plt\n",
        "import matplotlib.image as imgplot\n",
        "import numpy as np\n",
        "import pandas as pd\n",
        "from sklearn.metrics import confusion_matrix\n",
        "from pylab import *\n",
        "\n",
        "import time\n",
        "import tensorflow as tf\n",
        "\n",
        "import keras\n",
        "import sys\n",
        "print (\"Keras {} TF {} Python {}\".format(keras.__version__, tf.__version__, sys.version_info))"
      ],
      "execution_count": 32,
      "outputs": [
        {
          "output_type": "stream",
          "text": [
            "Keras 2.4.3 TF 2.4.1 Python sys.version_info(major=3, minor=7, micro=10, releaselevel='final', serial=0)\n"
          ],
          "name": "stdout"
        }
      ]
    },
    {
      "cell_type": "markdown",
      "metadata": {
        "id": "MUIuN6nOd-05"
      },
      "source": [
        "### CIFAR Data preparation"
      ]
    },
    {
      "cell_type": "code",
      "metadata": {
        "id": "20_9rgUsd-05"
      },
      "source": [
        "#downlad cifar data\n",
        "from keras.datasets import cifar10\n",
        "\n",
        "(x_train, y_train), (x_test, y_test) = cifar10.load_data()\n",
        "del [x_test,y_test]"
      ],
      "execution_count": 33,
      "outputs": []
    },
    {
      "cell_type": "code",
      "metadata": {
        "id": "GFrSwPeCd-05"
      },
      "source": [
        "#loop over each class label and sample 100 random images over each label and save the idx to subset\n",
        "np.random.seed(seed=222)\n",
        "idx=np.empty(0,dtype=\"int8\")\n",
        "for i in range(0,len(np.unique(y_train))):\n",
        "    idx=np.append(idx,np.random.choice(np.where((y_train[0:len(y_train)])==i)[0],100,replace=False))\n",
        "\n",
        "x_train= x_train[idx]\n",
        "y_train= y_train[idx]"
      ],
      "execution_count": 34,
      "outputs": []
    },
    {
      "cell_type": "code",
      "metadata": {
        "id": "0B37tobId-06",
        "colab": {
          "base_uri": "https://localhost:8080/"
        },
        "outputId": "6a03ea47-cf19-4a34-dddf-d503d8d27d64"
      },
      "source": [
        "print(x_train.shape)\n",
        "print(y_train.shape)\n",
        "print(np.unique(y_train,return_counts=True))"
      ],
      "execution_count": 35,
      "outputs": [
        {
          "output_type": "stream",
          "text": [
            "(1000, 32, 32, 3)\n",
            "(1000, 1)\n",
            "(array([0, 1, 2, 3, 4, 5, 6, 7, 8, 9], dtype=uint8), array([100, 100, 100, 100, 100, 100, 100, 100, 100, 100]))\n"
          ],
          "name": "stdout"
        }
      ]
    },
    {
      "cell_type": "code",
      "metadata": {
        "id": "MmF8lJPed-07"
      },
      "source": [
        "#make train vaild and test\n",
        "#loop over each class label and sample 100 random images over each label and save the idx to subset\n",
        "np.random.seed(seed=123)\n",
        "idx_train=np.empty(0,dtype=\"int8\")\n",
        "for i in range(0,len(np.unique(y_train))):\n",
        "    idx_train=np.append(idx_train,np.random.choice(np.where((y_train[0:len(y_train)])==i)[0],10,replace=False))\n",
        "\n",
        "x_train_new = x_train[idx_train]\n",
        "y_train_new = y_train[idx_train]"
      ],
      "execution_count": 36,
      "outputs": []
    },
    {
      "cell_type": "code",
      "metadata": {
        "id": "uqiJHsodd-08"
      },
      "source": [
        "x_test_new=(np.delete(x_train,idx_train,axis=0))\n",
        "y_test_new=(np.delete(y_train,idx_train,axis=0))"
      ],
      "execution_count": 37,
      "outputs": []
    },
    {
      "cell_type": "code",
      "metadata": {
        "id": "VuXfHWZvd-09"
      },
      "source": [
        "np.random.seed(seed=127)\n",
        "idx_vaild=np.empty(0,dtype=\"int8\")\n",
        "for i in range(0,len(np.unique(y_test_new))):\n",
        "    idx_vaild=np.append(idx_vaild,np.random.choice(np.where((y_test_new[0:len(y_test_new)])==i)[0],10,replace=False))\n",
        "\n",
        "x_vaild_new = x_test_new[idx_vaild]\n",
        "y_valid_new = y_test_new[idx_vaild]"
      ],
      "execution_count": 38,
      "outputs": []
    },
    {
      "cell_type": "code",
      "metadata": {
        "id": "fPzf5eiOd-09"
      },
      "source": [
        "x_test_new=(np.delete(x_test_new,idx_vaild,axis=0))\n",
        "y_test_new=(np.delete(y_test_new,idx_vaild,axis=0))"
      ],
      "execution_count": 39,
      "outputs": []
    },
    {
      "cell_type": "code",
      "metadata": {
        "id": "LAjRrwBFd-0-"
      },
      "source": [
        "x_train_new = np.reshape(x_train_new, (100,32,32,3))\n",
        "x_vaild_new = np.reshape(x_vaild_new, (100,32,32,3))\n",
        "x_test_new = np.reshape(x_test_new, (800,32,32,3))"
      ],
      "execution_count": 40,
      "outputs": []
    },
    {
      "cell_type": "code",
      "metadata": {
        "id": "ub4bXw51d-0-",
        "colab": {
          "base_uri": "https://localhost:8080/"
        },
        "outputId": "557eb82d-1248-49a5-e37d-a80442ee4781"
      },
      "source": [
        "print(np.unique(y_train_new,return_counts=True))\n",
        "print(np.unique(y_valid_new,return_counts=True))\n",
        "print(np.unique(y_test_new,return_counts=True))"
      ],
      "execution_count": 41,
      "outputs": [
        {
          "output_type": "stream",
          "text": [
            "(array([0, 1, 2, 3, 4, 5, 6, 7, 8, 9], dtype=uint8), array([10, 10, 10, 10, 10, 10, 10, 10, 10, 10]))\n",
            "(array([0, 1, 2, 3, 4, 5, 6, 7, 8, 9], dtype=uint8), array([10, 10, 10, 10, 10, 10, 10, 10, 10, 10]))\n",
            "(array([0, 1, 2, 3, 4, 5, 6, 7, 8, 9], dtype=uint8), array([80, 80, 80, 80, 80, 80, 80, 80, 80, 80]))\n"
          ],
          "name": "stdout"
        }
      ]
    },
    {
      "cell_type": "code",
      "metadata": {
        "id": "XqAPBiZNd-0_"
      },
      "source": [
        "from keras.utils.np_utils import to_categorical   \n",
        "\n",
        "y_train_new=to_categorical(y_train_new,10)\n",
        "y_valid_new=to_categorical(y_valid_new,10)\n",
        "y_test_new=to_categorical(y_test_new,10)\n",
        "\n"
      ],
      "execution_count": 42,
      "outputs": []
    },
    {
      "cell_type": "code",
      "metadata": {
        "id": "pdQXPfHUd-0_",
        "colab": {
          "base_uri": "https://localhost:8080/"
        },
        "outputId": "ca37c3c5-fbea-4e2f-ca69-33d6415b9035"
      },
      "source": [
        "print(x_train_new.shape)\n",
        "print(y_train_new.shape)\n",
        "\n",
        "print(x_vaild_new.shape)\n",
        "print(y_valid_new.shape)\n",
        "\n",
        "print(x_test_new.shape)\n",
        "print(y_test_new.shape)"
      ],
      "execution_count": 43,
      "outputs": [
        {
          "output_type": "stream",
          "text": [
            "(100, 32, 32, 3)\n",
            "(100, 10)\n",
            "(100, 32, 32, 3)\n",
            "(100, 10)\n",
            "(800, 32, 32, 3)\n",
            "(800, 10)\n"
          ],
          "name": "stdout"
        }
      ]
    },
    {
      "cell_type": "code",
      "metadata": {
        "id": "3hDsmjn4d-1A"
      },
      "source": [
        "# center and standardize the data\n",
        "X_mean = np.mean( x_train_new, axis = 0)\n",
        "X_std = np.std( x_train_new, axis = 0)\n",
        "\n",
        "x_train_new = (x_train_new - X_mean ) / (X_std + 0.0001)\n",
        "x_vaild_new = (x_vaild_new - X_mean ) / (X_std + 0.0001)\n",
        "x_test_new = (x_test_new - X_mean ) / (X_std + 0.0001)"
      ],
      "execution_count": 44,
      "outputs": []
    },
    {
      "cell_type": "markdown",
      "metadata": {
        "id": "bmFjrUIxd-1B"
      },
      "source": [
        "### Setting up the the CNN classifier based on raw image data"
      ]
    },
    {
      "cell_type": "code",
      "metadata": {
        "id": "9hOO4d4vd-1B"
      },
      "source": [
        "from keras.models import Sequential\n",
        "from keras.layers import Dense, Activation, Dropout, BatchNormalization\n",
        "from keras.layers import Convolution2D, MaxPooling2D, Flatten\n"
      ],
      "execution_count": 45,
      "outputs": []
    },
    {
      "cell_type": "code",
      "metadata": {
        "id": "A6RNdedNd-1B"
      },
      "source": [
        "# here we define  hyperparameter of the NN\n",
        "batch_size = 10\n",
        "nb_classes = 10\n",
        "nb_epoch = 30\n",
        "img_rows, img_cols = 32, 32\n",
        "kernel_size = (3, 3)\n",
        "input_shape = (img_rows, img_cols, 3)\n",
        "pool_size = (2, 2)"
      ],
      "execution_count": 46,
      "outputs": []
    },
    {
      "cell_type": "code",
      "metadata": {
        "id": "lqjynUYMd-1B"
      },
      "source": [
        "model = Sequential()\n",
        "\n",
        "model.add(Convolution2D(8,kernel_size,padding='same',input_shape=input_shape))\n",
        "model.add(BatchNormalization())\n",
        "model.add(Activation('relu'))\n",
        "model.add(Convolution2D(8, kernel_size,padding='same'))\n",
        "model.add(BatchNormalization())\n",
        "model.add(Activation('relu'))\n",
        "model.add(MaxPooling2D(pool_size=pool_size))\n",
        "\n",
        "model.add(Convolution2D(16, kernel_size,padding='same'))\n",
        "model.add(BatchNormalization())\n",
        "model.add(Activation('relu'))\n",
        "\n",
        "model.add(Convolution2D(16,kernel_size,padding='same'))\n",
        "model.add(BatchNormalization())\n",
        "model.add(Activation('relu'))\n",
        "model.add(MaxPooling2D(pool_size=pool_size))\n",
        "\n",
        "model.add(Flatten())\n",
        "model.add(Dense(40))\n",
        "model.add(BatchNormalization())\n",
        "model.add(Dropout(0.3))\n",
        "model.add(Activation('relu'))\n",
        "model.add(Dense(nb_classes))\n",
        "model.add(Activation('softmax'))\n",
        "\n",
        "model.compile(loss='categorical_crossentropy',\n",
        "              optimizer='adam',\n",
        "              metrics=['accuracy'])\n"
      ],
      "execution_count": 47,
      "outputs": []
    },
    {
      "cell_type": "code",
      "metadata": {
        "id": "U4cqyvwZd-1C",
        "colab": {
          "base_uri": "https://localhost:8080/"
        },
        "outputId": "a2926c4f-7ede-476f-ab49-6716d9037f77"
      },
      "source": [
        "model.summary()"
      ],
      "execution_count": 48,
      "outputs": [
        {
          "output_type": "stream",
          "text": [
            "Model: \"sequential_2\"\n",
            "_________________________________________________________________\n",
            "Layer (type)                 Output Shape              Param #   \n",
            "=================================================================\n",
            "conv2d_4 (Conv2D)            (None, 32, 32, 8)         224       \n",
            "_________________________________________________________________\n",
            "batch_normalization_6 (Batch (None, 32, 32, 8)         32        \n",
            "_________________________________________________________________\n",
            "activation_8 (Activation)    (None, 32, 32, 8)         0         \n",
            "_________________________________________________________________\n",
            "conv2d_5 (Conv2D)            (None, 32, 32, 8)         584       \n",
            "_________________________________________________________________\n",
            "batch_normalization_7 (Batch (None, 32, 32, 8)         32        \n",
            "_________________________________________________________________\n",
            "activation_9 (Activation)    (None, 32, 32, 8)         0         \n",
            "_________________________________________________________________\n",
            "max_pooling2d_2 (MaxPooling2 (None, 16, 16, 8)         0         \n",
            "_________________________________________________________________\n",
            "conv2d_6 (Conv2D)            (None, 16, 16, 16)        1168      \n",
            "_________________________________________________________________\n",
            "batch_normalization_8 (Batch (None, 16, 16, 16)        64        \n",
            "_________________________________________________________________\n",
            "activation_10 (Activation)   (None, 16, 16, 16)        0         \n",
            "_________________________________________________________________\n",
            "conv2d_7 (Conv2D)            (None, 16, 16, 16)        2320      \n",
            "_________________________________________________________________\n",
            "batch_normalization_9 (Batch (None, 16, 16, 16)        64        \n",
            "_________________________________________________________________\n",
            "activation_11 (Activation)   (None, 16, 16, 16)        0         \n",
            "_________________________________________________________________\n",
            "max_pooling2d_3 (MaxPooling2 (None, 8, 8, 16)          0         \n",
            "_________________________________________________________________\n",
            "flatten_1 (Flatten)          (None, 1024)              0         \n",
            "_________________________________________________________________\n",
            "dense_5 (Dense)              (None, 40)                41000     \n",
            "_________________________________________________________________\n",
            "batch_normalization_10 (Batc (None, 40)                160       \n",
            "_________________________________________________________________\n",
            "dropout_2 (Dropout)          (None, 40)                0         \n",
            "_________________________________________________________________\n",
            "activation_12 (Activation)   (None, 40)                0         \n",
            "_________________________________________________________________\n",
            "dense_6 (Dense)              (None, 10)                410       \n",
            "_________________________________________________________________\n",
            "activation_13 (Activation)   (None, 10)                0         \n",
            "=================================================================\n",
            "Total params: 46,058\n",
            "Trainable params: 45,882\n",
            "Non-trainable params: 176\n",
            "_________________________________________________________________\n"
          ],
          "name": "stdout"
        }
      ]
    },
    {
      "cell_type": "code",
      "metadata": {
        "id": "M03zx5y4d-1D",
        "colab": {
          "base_uri": "https://localhost:8080/"
        },
        "outputId": "44dc446b-55ac-4056-9170-82fa5869a1a0"
      },
      "source": [
        "history=model.fit(x_train_new, y_train_new, \n",
        "                  batch_size=10, \n",
        "                  epochs=30,\n",
        "                  verbose=2, \n",
        "                  validation_data=(x_vaild_new, y_valid_new),shuffle=True)"
      ],
      "execution_count": 49,
      "outputs": [
        {
          "output_type": "stream",
          "text": [
            "Epoch 1/30\n",
            "10/10 - 2s - loss: 2.7983 - accuracy: 0.1100 - val_loss: 2.3216 - val_accuracy: 0.1100\n",
            "Epoch 2/30\n",
            "10/10 - 0s - loss: 2.1376 - accuracy: 0.1700 - val_loss: 2.2979 - val_accuracy: 0.1500\n",
            "Epoch 3/30\n",
            "10/10 - 0s - loss: 1.8694 - accuracy: 0.3700 - val_loss: 2.2854 - val_accuracy: 0.1400\n",
            "Epoch 4/30\n",
            "10/10 - 0s - loss: 1.6397 - accuracy: 0.4700 - val_loss: 2.2879 - val_accuracy: 0.1400\n",
            "Epoch 5/30\n",
            "10/10 - 0s - loss: 1.4148 - accuracy: 0.5800 - val_loss: 2.2984 - val_accuracy: 0.1100\n",
            "Epoch 6/30\n",
            "10/10 - 0s - loss: 1.3135 - accuracy: 0.6500 - val_loss: 2.3143 - val_accuracy: 0.1300\n",
            "Epoch 7/30\n",
            "10/10 - 0s - loss: 1.0909 - accuracy: 0.7400 - val_loss: 2.3241 - val_accuracy: 0.1200\n",
            "Epoch 8/30\n",
            "10/10 - 0s - loss: 1.0271 - accuracy: 0.7700 - val_loss: 2.3442 - val_accuracy: 0.1500\n",
            "Epoch 9/30\n",
            "10/10 - 0s - loss: 0.8822 - accuracy: 0.8800 - val_loss: 2.3468 - val_accuracy: 0.1200\n",
            "Epoch 10/30\n",
            "10/10 - 0s - loss: 0.8240 - accuracy: 0.8400 - val_loss: 2.3237 - val_accuracy: 0.1400\n",
            "Epoch 11/30\n",
            "10/10 - 0s - loss: 0.7799 - accuracy: 0.8700 - val_loss: 2.3115 - val_accuracy: 0.1400\n",
            "Epoch 12/30\n",
            "10/10 - 0s - loss: 0.7470 - accuracy: 0.8800 - val_loss: 2.3083 - val_accuracy: 0.1300\n",
            "Epoch 13/30\n",
            "10/10 - 0s - loss: 0.7201 - accuracy: 0.9000 - val_loss: 2.3508 - val_accuracy: 0.1500\n",
            "Epoch 14/30\n",
            "10/10 - 0s - loss: 0.6210 - accuracy: 0.9200 - val_loss: 2.3739 - val_accuracy: 0.1300\n",
            "Epoch 15/30\n",
            "10/10 - 0s - loss: 0.5608 - accuracy: 0.9200 - val_loss: 2.3639 - val_accuracy: 0.1300\n",
            "Epoch 16/30\n",
            "10/10 - 0s - loss: 0.5174 - accuracy: 0.9200 - val_loss: 2.3520 - val_accuracy: 0.1300\n",
            "Epoch 17/30\n",
            "10/10 - 0s - loss: 0.5167 - accuracy: 0.9600 - val_loss: 2.3398 - val_accuracy: 0.1300\n",
            "Epoch 18/30\n",
            "10/10 - 0s - loss: 0.4492 - accuracy: 0.9800 - val_loss: 2.3204 - val_accuracy: 0.1400\n",
            "Epoch 19/30\n",
            "10/10 - 0s - loss: 0.4407 - accuracy: 0.9700 - val_loss: 2.2982 - val_accuracy: 0.1700\n",
            "Epoch 20/30\n",
            "10/10 - 0s - loss: 0.4000 - accuracy: 0.9700 - val_loss: 2.2987 - val_accuracy: 0.1700\n",
            "Epoch 21/30\n",
            "10/10 - 0s - loss: 0.4869 - accuracy: 0.9400 - val_loss: 2.3290 - val_accuracy: 0.1500\n",
            "Epoch 22/30\n",
            "10/10 - 0s - loss: 0.4032 - accuracy: 0.9800 - val_loss: 2.3223 - val_accuracy: 0.1600\n",
            "Epoch 23/30\n",
            "10/10 - 0s - loss: 0.3473 - accuracy: 0.9700 - val_loss: 2.3128 - val_accuracy: 0.1600\n",
            "Epoch 24/30\n",
            "10/10 - 0s - loss: 0.3974 - accuracy: 0.9500 - val_loss: 2.3452 - val_accuracy: 0.1300\n",
            "Epoch 25/30\n",
            "10/10 - 0s - loss: 0.3501 - accuracy: 0.9800 - val_loss: 2.3927 - val_accuracy: 0.1300\n",
            "Epoch 26/30\n",
            "10/10 - 0s - loss: 0.3077 - accuracy: 0.9800 - val_loss: 2.3554 - val_accuracy: 0.1300\n",
            "Epoch 27/30\n",
            "10/10 - 0s - loss: 0.2975 - accuracy: 1.0000 - val_loss: 2.3268 - val_accuracy: 0.1300\n",
            "Epoch 28/30\n",
            "10/10 - 0s - loss: 0.2609 - accuracy: 1.0000 - val_loss: 2.2905 - val_accuracy: 0.1400\n",
            "Epoch 29/30\n",
            "10/10 - 0s - loss: 0.2654 - accuracy: 0.9900 - val_loss: 2.2605 - val_accuracy: 0.1400\n",
            "Epoch 30/30\n",
            "10/10 - 0s - loss: 0.2630 - accuracy: 0.9800 - val_loss: 2.2866 - val_accuracy: 0.1800\n"
          ],
          "name": "stdout"
        }
      ]
    },
    {
      "cell_type": "markdown",
      "metadata": {
        "id": "j7kEbIcad-1D"
      },
      "source": [
        "### Evaluation of the CNN classifier that was trained on raw image data"
      ]
    },
    {
      "cell_type": "code",
      "metadata": {
        "id": "xYcyO4N4d-1E",
        "colab": {
          "base_uri": "https://localhost:8080/"
        },
        "outputId": "5b7ddb1a-3d35-4d74-b076-78bfb10a1371"
      },
      "source": [
        "from sklearn.metrics import confusion_matrix\n",
        "pred=model.predict(x_test_new)\n",
        "print(confusion_matrix(np.argmax(y_test_new,axis=1),np.argmax(pred,axis=1)))\n",
        "print(\"Acc = \" ,np.sum(np.argmax(y_test_new,axis=1)==np.argmax(pred,axis=1))/len(y_test_new))\n"
      ],
      "execution_count": 50,
      "outputs": [
        {
          "output_type": "stream",
          "text": [
            "[[20  1  9 11  2  5  0  5 22  5]\n",
            " [ 6 17  7 13  3  4  2  6 19  3]\n",
            " [ 0  4 14 21  9  2  6  2 18  4]\n",
            " [ 2  8 13 23  4  4  5  3 16  2]\n",
            " [ 3  3 14  9 15  4 10  4 16  2]\n",
            " [ 0  6 10 29  5  3  2  5 14  6]\n",
            " [ 2  3 18 17 10  6  8  1 10  5]\n",
            " [ 4  1 12 14 16  4  3 18  7  1]\n",
            " [ 8  5 12  7  2  1  0 10 33  2]\n",
            " [ 7 11  6 14  5  4  2  7 19  5]]\n",
            "Acc =  0.195\n"
          ],
          "name": "stdout"
        }
      ]
    },
    {
      "cell_type": "markdown",
      "metadata": {
        "id": "i5k7FBald-1E"
      },
      "source": [
        "### Getting the VGG features for CIFAR"
      ]
    },
    {
      "cell_type": "code",
      "metadata": {
        "id": "fQH8us4Bd-1F",
        "colab": {
          "base_uri": "https://localhost:8080/"
        },
        "outputId": "6b8b5eca-c27f-491e-dfee-84c526192543"
      },
      "source": [
        "# Downloading embeddings\n",
        "import urllib\n",
        "import os\n",
        "if not os.path.isfile('cifar_EMB_1000.npz'):\n",
        "    urllib.request.urlretrieve(\n",
        "    \"https://www.dropbox.com/s/si287al91c1ls0d/cifar_EMB_1000.npz?dl=1\",\n",
        "    \"cifar_EMB_1000.npz\")\n",
        "%ls -hl cifar_EMB_1000.npz"
      ],
      "execution_count": 51,
      "outputs": [
        {
          "output_type": "stream",
          "text": [
            "-rw-r--r-- 1 root root 18M Mar  8 20:41 cifar_EMB_1000.npz\n"
          ],
          "name": "stdout"
        }
      ]
    },
    {
      "cell_type": "code",
      "metadata": {
        "id": "bux3xwf0d-1F"
      },
      "source": [
        "Data=np.load(\"cifar_EMB_1000.npz\")\n",
        "vgg_features_cifar = Data[\"arr_0\"]"
      ],
      "execution_count": 52,
      "outputs": []
    },
    {
      "cell_type": "code",
      "metadata": {
        "id": "gFUrY5ekd-1F"
      },
      "source": [
        "vgg_features_cifar_train = vgg_features_cifar[idx_train]\n",
        "vgg_features_cifar_test=(np.delete(vgg_features_cifar,idx_train,axis=0))\n",
        "vgg_features_cifar_valid = vgg_features_cifar_test[idx_vaild]\n",
        "vgg_features_cifar_test=(np.delete(vgg_features_cifar_test,idx_vaild,axis=0))\n"
      ],
      "execution_count": 53,
      "outputs": []
    },
    {
      "cell_type": "code",
      "metadata": {
        "id": "AZCEIourd-1G",
        "colab": {
          "base_uri": "https://localhost:8080/"
        },
        "outputId": "f283ad58-47a1-4da4-c9ce-bacf94d00a6c"
      },
      "source": [
        "print(vgg_features_cifar_train.shape)\n",
        "print(vgg_features_cifar_valid.shape)\n",
        "print(vgg_features_cifar_test.shape)"
      ],
      "execution_count": 54,
      "outputs": [
        {
          "output_type": "stream",
          "text": [
            "(100, 4096)\n",
            "(100, 4096)\n",
            "(800, 4096)\n"
          ],
          "name": "stdout"
        }
      ]
    },
    {
      "cell_type": "markdown",
      "metadata": {
        "id": "SXkrEaXKd-1G"
      },
      "source": [
        "### Setting up the the CNN classifier based on VGG feature"
      ]
    },
    {
      "cell_type": "code",
      "metadata": {
        "id": "KN12Ss4md-1H"
      },
      "source": [
        "model = Sequential()\n",
        "model.add(Dense(200,batch_input_shape=(None, 4096)))\n",
        "model.add(BatchNormalization())\n",
        "model.add(Dropout(0.5))\n",
        "model.add(Activation('relu'))\n",
        "model.add(Dense(200))\n",
        "\n",
        "#### we still need to add the last layers to get the predictions on the 10 classes\n",
        "### your code here\n",
        "\n",
        "\n",
        "\n",
        "\n",
        "####### end of your code ######\n",
        "\n",
        "\n",
        "model.compile(loss='categorical_crossentropy',\n",
        "              optimizer='adam',\n",
        "              metrics=['accuracy'])\n"
      ],
      "execution_count": 55,
      "outputs": []
    },
    {
      "cell_type": "code",
      "metadata": {
        "id": "ziQXpgHtd-1H",
        "colab": {
          "base_uri": "https://localhost:8080/"
        },
        "outputId": "0680a3ca-ec94-4941-9b31-e5c3204ee137"
      },
      "source": [
        "model.summary()"
      ],
      "execution_count": 56,
      "outputs": [
        {
          "output_type": "stream",
          "text": [
            "Model: \"sequential_3\"\n",
            "_________________________________________________________________\n",
            "Layer (type)                 Output Shape              Param #   \n",
            "=================================================================\n",
            "dense_7 (Dense)              (None, 200)               819400    \n",
            "_________________________________________________________________\n",
            "batch_normalization_11 (Batc (None, 200)               800       \n",
            "_________________________________________________________________\n",
            "dropout_3 (Dropout)          (None, 200)               0         \n",
            "_________________________________________________________________\n",
            "activation_14 (Activation)   (None, 200)               0         \n",
            "_________________________________________________________________\n",
            "dense_8 (Dense)              (None, 200)               40200     \n",
            "_________________________________________________________________\n",
            "dense_9 (Dense)              (None, 10)                2010      \n",
            "_________________________________________________________________\n",
            "activation_15 (Activation)   (None, 10)                0         \n",
            "=================================================================\n",
            "Total params: 862,410\n",
            "Trainable params: 862,010\n",
            "Non-trainable params: 400\n",
            "_________________________________________________________________\n"
          ],
          "name": "stdout"
        }
      ]
    },
    {
      "cell_type": "code",
      "metadata": {
        "id": "QK45pvVCd-1H",
        "colab": {
          "base_uri": "https://localhost:8080/"
        },
        "outputId": "1cde6fc5-9ee0-4c20-d09f-ace6a531d63e"
      },
      "source": [
        "history=model.fit(vgg_features_cifar_train, y_train_new, \n",
        "                  batch_size=10, \n",
        "                  epochs=20,\n",
        "                  verbose=2, \n",
        "                  validation_data=(vgg_features_cifar_valid, y_valid_new),shuffle=True)"
      ],
      "execution_count": 57,
      "outputs": [
        {
          "output_type": "stream",
          "text": [
            "Epoch 1/20\n",
            "10/10 - 1s - loss: 2.5356 - accuracy: 0.2700 - val_loss: 7.4725 - val_accuracy: 0.3600\n",
            "Epoch 2/20\n",
            "10/10 - 0s - loss: 1.0767 - accuracy: 0.5200 - val_loss: 5.0370 - val_accuracy: 0.4200\n",
            "Epoch 3/20\n",
            "10/10 - 0s - loss: 0.6484 - accuracy: 0.7900 - val_loss: 4.2769 - val_accuracy: 0.4000\n",
            "Epoch 4/20\n",
            "10/10 - 0s - loss: 0.5048 - accuracy: 0.8300 - val_loss: 2.8719 - val_accuracy: 0.5000\n",
            "Epoch 5/20\n",
            "10/10 - 0s - loss: 0.4873 - accuracy: 0.8400 - val_loss: 2.8195 - val_accuracy: 0.4800\n",
            "Epoch 6/20\n",
            "10/10 - 0s - loss: 0.2681 - accuracy: 0.9200 - val_loss: 2.4771 - val_accuracy: 0.5100\n",
            "Epoch 7/20\n",
            "10/10 - 0s - loss: 0.2943 - accuracy: 0.9300 - val_loss: 1.9991 - val_accuracy: 0.5300\n",
            "Epoch 8/20\n",
            "10/10 - 0s - loss: 0.2662 - accuracy: 0.9200 - val_loss: 1.8623 - val_accuracy: 0.5500\n",
            "Epoch 9/20\n",
            "10/10 - 0s - loss: 0.2513 - accuracy: 0.9300 - val_loss: 2.0297 - val_accuracy: 0.5200\n",
            "Epoch 10/20\n",
            "10/10 - 0s - loss: 0.1989 - accuracy: 0.9300 - val_loss: 1.9012 - val_accuracy: 0.5300\n",
            "Epoch 11/20\n",
            "10/10 - 0s - loss: 0.1119 - accuracy: 0.9600 - val_loss: 1.8075 - val_accuracy: 0.5600\n",
            "Epoch 12/20\n",
            "10/10 - 0s - loss: 0.0520 - accuracy: 0.9900 - val_loss: 1.8082 - val_accuracy: 0.5500\n",
            "Epoch 13/20\n",
            "10/10 - 0s - loss: 0.1065 - accuracy: 0.9800 - val_loss: 1.7922 - val_accuracy: 0.5600\n",
            "Epoch 14/20\n",
            "10/10 - 0s - loss: 0.0843 - accuracy: 0.9900 - val_loss: 1.7633 - val_accuracy: 0.5600\n",
            "Epoch 15/20\n",
            "10/10 - 0s - loss: 0.0776 - accuracy: 0.9900 - val_loss: 1.7631 - val_accuracy: 0.5700\n",
            "Epoch 16/20\n",
            "10/10 - 0s - loss: 0.0676 - accuracy: 0.9900 - val_loss: 1.8137 - val_accuracy: 0.5600\n",
            "Epoch 17/20\n",
            "10/10 - 0s - loss: 0.0894 - accuracy: 0.9800 - val_loss: 1.9030 - val_accuracy: 0.5100\n",
            "Epoch 18/20\n",
            "10/10 - 0s - loss: 0.1073 - accuracy: 0.9800 - val_loss: 1.8058 - val_accuracy: 0.5400\n",
            "Epoch 19/20\n",
            "10/10 - 0s - loss: 0.0851 - accuracy: 0.9800 - val_loss: 1.7299 - val_accuracy: 0.5300\n",
            "Epoch 20/20\n",
            "10/10 - 0s - loss: 0.1659 - accuracy: 0.9500 - val_loss: 1.7997 - val_accuracy: 0.5500\n"
          ],
          "name": "stdout"
        }
      ]
    },
    {
      "cell_type": "markdown",
      "metadata": {
        "id": "AlHwGiRsd-1I"
      },
      "source": [
        "### Evaluation of the CNN classifier that was trained on VGG features"
      ]
    },
    {
      "cell_type": "code",
      "metadata": {
        "id": "80mCdjkWd-1I"
      },
      "source": [
        "pred=model.predict(vgg_features_cifar_test)\n",
        "\n",
        "#### we now want to get the confusion matrix for the predictions on the test data\n",
        "### your code here\n",
        "\n",
        "\n",
        "########## end of your code ###############################\n"
      ],
      "execution_count": 58,
      "outputs": []
    },
    {
      "cell_type": "markdown",
      "metadata": {
        "id": "D8ym3NgNd-1I"
      },
      "source": [
        "### Baseline: use VGG feature to train a Random Forest model"
      ]
    },
    {
      "cell_type": "code",
      "metadata": {
        "id": "04ljtLiwd-1I",
        "colab": {
          "base_uri": "https://localhost:8080/"
        },
        "outputId": "1a3e0216-e10d-4e10-a29d-d3674f2a84f2"
      },
      "source": [
        "from sklearn.ensemble import RandomForestClassifier\n",
        "clf = RandomForestClassifier()\n",
        "clf.fit(vgg_features_cifar_train,np.argmax(y_train_new, axis=1))"
      ],
      "execution_count": 59,
      "outputs": [
        {
          "output_type": "execute_result",
          "data": {
            "text/plain": [
              "RandomForestClassifier(bootstrap=True, ccp_alpha=0.0, class_weight=None,\n",
              "                       criterion='gini', max_depth=None, max_features='auto',\n",
              "                       max_leaf_nodes=None, max_samples=None,\n",
              "                       min_impurity_decrease=0.0, min_impurity_split=None,\n",
              "                       min_samples_leaf=1, min_samples_split=2,\n",
              "                       min_weight_fraction_leaf=0.0, n_estimators=100,\n",
              "                       n_jobs=None, oob_score=False, random_state=None,\n",
              "                       verbose=0, warm_start=False)"
            ]
          },
          "metadata": {
            "tags": []
          },
          "execution_count": 59
        }
      ]
    },
    {
      "cell_type": "code",
      "metadata": {
        "id": "DMsIVx7zd-1J",
        "colab": {
          "base_uri": "https://localhost:8080/"
        },
        "outputId": "eae570ab-fbeb-4e53-d822-a9998d9f81a9"
      },
      "source": [
        "from sklearn.metrics import confusion_matrix\n",
        "pred=clf.predict(vgg_features_cifar_test)\n",
        "print(confusion_matrix(np.argmax(y_test_new, axis=1), pred))\n",
        "np.sum(pred==np.argmax(y_test_new, axis=1))/len(np.argmax(y_test_new, axis=1))\n"
      ],
      "execution_count": 60,
      "outputs": [
        {
          "output_type": "stream",
          "text": [
            "[[35  2  4  1  0  0  1  3 27  7]\n",
            " [ 2 61  0  0  2  0  0  0  5 10]\n",
            " [ 8  2 21 11 22  7  4  3  1  1]\n",
            " [ 3  0  8 27  0 18 11  6  2  5]\n",
            " [ 0  0 10  6 38  2  4 14  5  1]\n",
            " [ 3  0  1 17  2 47  1  9  0  0]\n",
            " [ 3  0 19  5  7  5 38  3  0  0]\n",
            " [ 1  0  0  6 16  3  0 51  1  2]\n",
            " [ 8  4  2  3  0  0  0  0 58  5]\n",
            " [ 0 19  0  0  1  0  0  0  4 56]]\n"
          ],
          "name": "stdout"
        },
        {
          "output_type": "execute_result",
          "data": {
            "text/plain": [
              "0.54"
            ]
          },
          "metadata": {
            "tags": []
          },
          "execution_count": 60
        }
      ]
    },
    {
      "cell_type": "code",
      "metadata": {
        "id": "26ZX9Kqdd-1J"
      },
      "source": [
        ""
      ],
      "execution_count": 60,
      "outputs": []
    }
  ]
}
